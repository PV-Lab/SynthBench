{
 "cells": [
  {
   "cell_type": "code",
   "execution_count": 1,
   "id": "66113bda",
   "metadata": {},
   "outputs": [],
   "source": [
    "import os\n",
    "import pandas as pd\n",
    "from pymatgen.core import composition"
   ]
  },
  {
   "cell_type": "code",
   "execution_count": 2,
   "id": "3ade1d8d",
   "metadata": {},
   "outputs": [
    {
     "name": "stdout",
     "output_type": "stream",
     "text": [
      "  material_id pretty_formula  icsd_ids stoichiometry_list\n",
      "0  mp-1002206            SiC  [182362]         [1.0, 1.0]\n",
      "1    mp-10164        NaGaTe2   [44702]    [1.0, 1.0, 2.0]\n",
      "2  mp-1025377      Cd(AgI2)2  [190587]    [1.0, 2.0, 4.0]\n",
      "3  mp-1057273             Pb  [105158]              [1.0]\n",
      "4  mp-1065918        Mn2CuGe  [184949]    [2.0, 1.0, 1.0]\n"
     ]
    }
   ],
   "source": [
    "icsd_true = pd.read_csv(os.path.join('Materials', 'icsd_materials.csv'))\n",
    "print(icsd_true.head())"
   ]
  },
  {
   "cell_type": "code",
   "execution_count": 16,
   "id": "c1e6cdb4",
   "metadata": {},
   "outputs": [],
   "source": [
    "# Calculate stoichiometry for all compositions\n",
    "def calculate_stoichiometry(formula):\n",
    "    stoichiometry_list = []\n",
    "    for formula in icsd_true['pretty_formula']:\n",
    "        try:\n",
    "            comp = composition.Composition(formula)  # Use the Composition class\n",
    "            stoichiometry = {el.symbol: amt for el, amt in comp.items()}\n",
    "            stoichiometry_list.append(list(stoichiometry.values()))\n",
    "        except Exception as e:\n",
    "            print(f\"Error calculating composition for formula '{formula}': {e}\")\n",
    "            stoichiometry_list.append([])  # Append an empty list in case of an erro\n",
    "\n",
    "    return stoichiometry_list"
   ]
  },
  {
   "cell_type": "code",
   "execution_count": 20,
   "id": "9388267f",
   "metadata": {},
   "outputs": [
    {
     "name": "stdout",
     "output_type": "stream",
     "text": [
      "48642 48642\n"
     ]
    }
   ],
   "source": [
    "stoi_list = calculate_stoichiometry(icsd_true['pretty_formula'])\n",
    "print(len(stoi_list), len(icsd_true['pretty_formula'].values))"
   ]
  },
  {
   "cell_type": "code",
   "execution_count": null,
   "id": "dbe7a344",
   "metadata": {},
   "outputs": [
    {
     "name": "stdout",
     "output_type": "stream",
     "text": [
      "Cs1 Pb1 I3\n",
      "[Element Cs, Element Pb, Element I]\n"
     ]
    }
   ],
   "source": [
    "comp = 'CsPbI3'\n",
    "comp0 = composition.Composition(comp)  # Use the Composition class\n",
    "print(comp0)\n",
    "print(comp0.elements)"
   ]
  },
  {
   "cell_type": "code",
   "execution_count": 27,
   "id": "5fa55339",
   "metadata": {},
   "outputs": [
    {
     "name": "stdout",
     "output_type": "stream",
     "text": [
      "['CsSnI3', 'CsGeI3', 'CsHgI3', 'CsCdI3', 'CsBiI3', 'CsSbI3', 'CsAsI3', 'CsInI3', 'CsTlI3']\n"
     ]
    }
   ],
   "source": [
    "elem = 'Pb'\n",
    "replaces = ['Sn', 'Ge', 'Hg', 'Cd', 'Bi', 'Sb', 'As', 'In', 'Tl']\n",
    "new_comp = []\n",
    "for replacement in replaces:\n",
    "    new_comp.append( comp.replace(elem, replacement))\n",
    "    #print(f\"Replaced {elem} with {replacement}: {new_comp}\")\n",
    "print(new_comp)"
   ]
  },
  {
   "cell_type": "markdown",
   "id": "af30a173",
   "metadata": {},
   "source": [
    "## Algorithm\n",
    "1. Hand the list of new materials to the code\n",
    "2. let the code calculate stoichiometry\n",
    "3. let the code also calculate the charge on each of the elements\n",
    "3. if the stoichiometry exists in the icsd databse it is passed\n",
    "4. for each new material with a known stoichiometry select all the materials with the same stoichiometry\n",
    "5. from the list of known materials, find the ones which have one at least one or more elements which are same.\n",
    "6. \n"
   ]
  }
 ],
 "metadata": {
  "kernelspec": {
   "display_name": "Python 3",
   "language": "python",
   "name": "python3"
  },
  "language_info": {
   "codemirror_mode": {
    "name": "ipython",
    "version": 3
   },
   "file_extension": ".py",
   "mimetype": "text/x-python",
   "name": "python",
   "nbconvert_exporter": "python",
   "pygments_lexer": "ipython3",
   "version": "3.12.9"
  }
 },
 "nbformat": 4,
 "nbformat_minor": 5
}
