{
 "cells": [
  {
   "cell_type": "code",
   "execution_count": 1,
   "id": "4a883039",
   "metadata": {},
   "outputs": [],
   "source": [
    "import os\n",
    "import pandas as pd\n",
    "from pymatgen.core import composition"
   ]
  },
  {
   "cell_type": "code",
   "execution_count": 5,
   "id": "e7c9b96a",
   "metadata": {},
   "outputs": [
    {
     "name": "stdout",
     "output_type": "stream",
     "text": [
      "  material_id pretty_formula  icsd_ids stoichiometry_list\n",
      "0  mp-1002206            SiC  [182362]         [1.0, 1.0]\n",
      "1    mp-10164        NaGaTe2   [44702]    [1.0, 1.0, 2.0]\n",
      "2  mp-1025377      Cd(AgI2)2  [190587]    [1.0, 2.0, 4.0]\n",
      "3  mp-1057273             Pb  [105158]              [1.0]\n",
      "4  mp-1065918        Mn2CuGe  [184949]    [2.0, 1.0, 1.0]\n"
     ]
    }
   ],
   "source": [
    "icsd_true = pd.read_csv(os.path.join('Materials', 'icsd_materials.csv'))\n",
    "print(icsd_true.head())"
   ]
  },
  {
   "cell_type": "code",
   "execution_count": 4,
   "id": "1f255968",
   "metadata": {},
   "outputs": [
    {
     "name": "stdout",
     "output_type": "stream",
     "text": [
      "  pretty_formula                      stoichiometry\n",
      "0            SiC              {'Si': 1.0, 'C': 1.0}\n",
      "1        NaGaTe2  {'Na': 1.0, 'Ga': 1.0, 'Te': 2.0}\n",
      "2      Cd(AgI2)2   {'Cd': 1.0, 'Ag': 2.0, 'I': 4.0}\n",
      "3             Pb                        {'Pb': 1.0}\n",
      "4        Mn2CuGe  {'Mn': 2.0, 'Cu': 1.0, 'Ge': 1.0}\n"
     ]
    }
   ],
   "source": [
    "# Calculate stoichiometry for all compositions\n",
    "def calculate_stoichiometry(formula):\n",
    "    comp = composition.Composition(formula)  # Use the Composition class\n",
    "    return {el.symbol: amt for el, amt in comp.items()}\n",
    "\n",
    "icsd_true['stoichiometry'] = icsd_true['pretty_formula'].apply(calculate_stoichiometry)\n",
    "\n",
    "print(icsd_true[['pretty_formula', 'stoichiometry']].head())"
   ]
  },
  {
   "cell_type": "code",
   "execution_count": 5,
   "id": "535f251f",
   "metadata": {},
   "outputs": [
    {
     "name": "stdout",
     "output_type": "stream",
     "text": [
      "  pretty_formula                      stoichiometry stoichiometry_list\n",
      "0            SiC              {'Si': 1.0, 'C': 1.0}         [1.0, 1.0]\n",
      "1        NaGaTe2  {'Na': 1.0, 'Ga': 1.0, 'Te': 2.0}    [1.0, 1.0, 2.0]\n",
      "2      Cd(AgI2)2   {'Cd': 1.0, 'Ag': 2.0, 'I': 4.0}    [1.0, 2.0, 4.0]\n",
      "3             Pb                        {'Pb': 1.0}              [1.0]\n",
      "4        Mn2CuGe  {'Mn': 2.0, 'Cu': 1.0, 'Ge': 1.0}    [2.0, 1.0, 1.0]\n"
     ]
    }
   ],
   "source": [
    "icsd_true['stoichiometry_list'] = icsd_true['stoichiometry'].apply(lambda x: list(x.values()))\n",
    "print(icsd_true[['pretty_formula', 'stoichiometry', 'stoichiometry_list']].head())"
   ]
  },
  {
   "cell_type": "code",
   "execution_count": 7,
   "id": "d26fdaed",
   "metadata": {},
   "outputs": [
    {
     "name": "stdout",
     "output_type": "stream",
     "text": [
      "  material_id pretty_formula  icsd_ids stoichiometry_list\n",
      "0  mp-1002206            SiC  [182362]         [1.0, 1.0]\n",
      "1    mp-10164        NaGaTe2   [44702]    [1.0, 1.0, 2.0]\n",
      "2  mp-1025377      Cd(AgI2)2  [190587]    [1.0, 2.0, 4.0]\n",
      "3  mp-1057273             Pb  [105158]              [1.0]\n",
      "4  mp-1065918        Mn2CuGe  [184949]    [2.0, 1.0, 1.0]\n"
     ]
    }
   ],
   "source": [
    "# Select the required columns\n",
    "icsd_csv = icsd_true[['material_id', 'pretty_formula', 'icsd_ids', 'stoichiometry_list']]\n",
    "\n",
    "# Display the updated dataframe\n",
    "print(icsd_csv.head())\n",
    "icsd_csv.to_csv(os.path.join('Materials', 'icsd_valid_true.csv'), index=False)\n"
   ]
  },
  {
   "cell_type": "code",
   "execution_count": 3,
   "id": "f91b7b48",
   "metadata": {},
   "outputs": [
    {
     "name": "stdout",
     "output_type": "stream",
     "text": [
      "Empty DataFrame\n",
      "Columns: [material_id, pretty_formula, icsd_ids, is_valid]\n",
      "Index: []\n"
     ]
    }
   ],
   "source": [
    "from pymatgen.core import Composition\n",
    "\n",
    "# Function to check if a composition is valid\n",
    "def is_valid_composition(formula):\n",
    "    try:\n",
    "        Composition(formula)\n",
    "        return True\n",
    "    except:\n",
    "        return False\n",
    "\n",
    "# Find invalid compositions\n",
    "icsd_true['is_valid'] = icsd_true['pretty_formula'].apply(lambda x: is_valid_composition(x) if pd.notnull(x) else False)\n",
    "invalid_compositions = icsd_true[~icsd_true['is_valid']]\n",
    "\n",
    "print(invalid_compositions)"
   ]
  },
  {
   "cell_type": "code",
   "execution_count": 20,
   "id": "8873cc8b",
   "metadata": {},
   "outputs": [
    {
     "name": "stdout",
     "output_type": "stream",
     "text": [
      "  material_id pretty_formula  icsd_ids\n",
      "0  mp-1002206            SiC  [182362]\n",
      "1    mp-10164        NaGaTe2   [44702]\n",
      "2  mp-1025377      Cd(AgI2)2  [190587]\n",
      "3  mp-1057273             Pb  [105158]\n",
      "4  mp-1065918        Mn2CuGe  [184949]\n"
     ]
    }
   ],
   "source": [
    "# Filter the dataframe to include only valid compositions\n",
    "icsd_true = icsd_true[['material_id', 'pretty_formula', 'icsd_ids']][icsd_true['is_valid']]\n",
    "print(icsd_true.head())\n",
    "# Save the updated dataframe back to the CSV file\n",
    "icsd_true.to_csv(os.path.join('Materials', 'icsd_materials.csv'), index=False)"
   ]
  },
  {
   "cell_type": "code",
   "execution_count": 5,
   "id": "5c57bb8f",
   "metadata": {},
   "outputs": [
    {
     "name": "stdout",
     "output_type": "stream",
     "text": [
      "  pretty_formula                      stoichiometry\n",
      "0            SiC              {'Si': 1.0, 'C': 1.0}\n",
      "1        NaGaTe2  {'Na': 1.0, 'Ga': 1.0, 'Te': 2.0}\n",
      "2      Cd(AgI2)2   {'Cd': 1.0, 'Ag': 2.0, 'I': 4.0}\n",
      "3             Pb                        {'Pb': 1.0}\n",
      "4        Mn2CuGe  {'Mn': 2.0, 'Cu': 1.0, 'Ge': 1.0}\n"
     ]
    }
   ],
   "source": [
    "# Calculate stoichiometry for valid compositions\n",
    "def calculate_stoichiometry(formula):\n",
    "    comp = Composition(formula)\n",
    "    return {el.symbol: amt for el, amt in comp.items()}\n",
    "\n",
    "icsd_true['stoichiometry'] = icsd_true.apply(\n",
    "    lambda row: calculate_stoichiometry(row['pretty_formula']) if row['is_valid'] else None, axis=1\n",
    ")\n",
    "\n",
    "print(icsd_true[['pretty_formula', 'stoichiometry']].head())"
   ]
  },
  {
   "cell_type": "code",
   "execution_count": 7,
   "id": "7807a466",
   "metadata": {},
   "outputs": [
    {
     "name": "stdout",
     "output_type": "stream",
     "text": [
      "  pretty_formula                      stoichiometry stoichiometry_list\n",
      "0            SiC              {'Si': 1.0, 'C': 1.0}         [1.0, 1.0]\n",
      "1        NaGaTe2  {'Na': 1.0, 'Ga': 1.0, 'Te': 2.0}    [1.0, 1.0, 2.0]\n",
      "2      Cd(AgI2)2   {'Cd': 1.0, 'Ag': 2.0, 'I': 4.0}    [1.0, 2.0, 4.0]\n",
      "3             Pb                        {'Pb': 1.0}              [1.0]\n",
      "4        Mn2CuGe  {'Mn': 2.0, 'Cu': 1.0, 'Ge': 1.0}    [2.0, 1.0, 1.0]\n"
     ]
    }
   ],
   "source": [
    "icsd_true['stoichiometry_list'] = icsd_true['stoichiometry'].apply(\n",
    "    lambda x: list(x.values()) if pd.notnull(x) else None\n",
    ")\n",
    "\n",
    "print(icsd_true[['pretty_formula', 'stoichiometry', 'stoichiometry_list']].head())"
   ]
  },
  {
   "cell_type": "code",
   "execution_count": 9,
   "id": "06a1b1f4",
   "metadata": {},
   "outputs": [
    {
     "name": "stdout",
     "output_type": "stream",
     "text": [
      "      material_id pretty_formula          icsd_ids  is_valid  \\\n",
      "0      mp-1002206            SiC          [182362]      True   \n",
      "1        mp-10164        NaGaTe2           [44702]      True   \n",
      "2      mp-1025377      Cd(AgI2)2          [190587]      True   \n",
      "3      mp-1057273             Pb          [105158]      True   \n",
      "4      mp-1065918        Mn2CuGe          [184949]      True   \n",
      "...           ...            ...               ...       ...   \n",
      "48639     mp-9413      Ca2TiSiO6           [83455]      True   \n",
      "48640   mp-973926    KCoH3(CO2)3          [181923]      True   \n",
      "48641   mp-980205          YB4Os          [615147]      True   \n",
      "48642   mp-999473            ZnN  [236817, 236818]      True   \n",
      "48643   mp-999550          Mn3Ga          [188332]      True   \n",
      "\n",
      "                                           stoichiometry  total_amt  \\\n",
      "0                                  {'Si': 1.0, 'C': 1.0}        2.0   \n",
      "1                      {'Na': 1.0, 'Ga': 1.0, 'Te': 2.0}        4.0   \n",
      "2                       {'Cd': 1.0, 'Ag': 2.0, 'I': 4.0}        7.0   \n",
      "3                                            {'Pb': 1.0}        1.0   \n",
      "4                      {'Mn': 2.0, 'Cu': 1.0, 'Ge': 1.0}        4.0   \n",
      "...                                                  ...        ...   \n",
      "48639        {'Ca': 2.0, 'Ti': 1.0, 'Si': 1.0, 'O': 6.0}       10.0   \n",
      "48640  {'K': 1.0, 'Co': 1.0, 'H': 3.0, 'C': 3.0, 'O':...       14.0   \n",
      "48641                    {'Y': 1.0, 'B': 4.0, 'Os': 1.0}        6.0   \n",
      "48642                              {'Zn': 1.0, 'N': 1.0}        2.0   \n",
      "48643                             {'Mn': 3.0, 'Ga': 1.0}        4.0   \n",
      "\n",
      "              stoichiometry_list  \n",
      "0                     [1.0, 1.0]  \n",
      "1                [1.0, 1.0, 2.0]  \n",
      "2                [1.0, 2.0, 4.0]  \n",
      "3                          [1.0]  \n",
      "4                [2.0, 1.0, 1.0]  \n",
      "...                          ...  \n",
      "48639       [2.0, 1.0, 1.0, 6.0]  \n",
      "48640  [1.0, 1.0, 3.0, 3.0, 6.0]  \n",
      "48641            [1.0, 4.0, 1.0]  \n",
      "48642                 [1.0, 1.0]  \n",
      "48643                 [3.0, 1.0]  \n",
      "\n",
      "[48642 rows x 7 columns]\n"
     ]
    },
    {
     "name": "stderr",
     "output_type": "stream",
     "text": [
      "C:\\Users\\Basita Das\\AppData\\Local\\Temp\\ipykernel_27272\\128191073.py:4: SettingWithCopyWarning: \n",
      "A value is trying to be set on a copy of a slice from a DataFrame.\n",
      "Try using .loc[row_indexer,col_indexer] = value instead\n",
      "\n",
      "See the caveats in the documentation: https://pandas.pydata.org/pandas-docs/stable/user_guide/indexing.html#returning-a-view-versus-a-copy\n",
      "  valid_compositions['stoichiometry_list'] = valid_compositions['stoichiometry'].apply(\n"
     ]
    }
   ],
   "source": [
    "# Filter the dataframe to include only valid compositions\n",
    "valid_compositions = icsd_true[icsd_true['is_valid']]\n",
    "\n",
    "valid_compositions['stoichiometry_list'] = valid_compositions['stoichiometry'].apply(\n",
    "    lambda x: list(x.values()) if pd.notnull(x) else None\n",
    ")\n",
    "print(valid_compositions)\n",
    "# Save the filtered dataframe to a new CSV file\n",
    "#valid_compositions.to_csv(os.path.join('Materials', 'icsd_valid_materials.csv'), index=False)"
   ]
  }
 ],
 "metadata": {
  "kernelspec": {
   "display_name": "Python 3",
   "language": "python",
   "name": "python3"
  },
  "language_info": {
   "codemirror_mode": {
    "name": "ipython",
    "version": 3
   },
   "file_extension": ".py",
   "mimetype": "text/x-python",
   "name": "python",
   "nbconvert_exporter": "python",
   "pygments_lexer": "ipython3",
   "version": "3.12.9"
  }
 },
 "nbformat": 4,
 "nbformat_minor": 5
}
