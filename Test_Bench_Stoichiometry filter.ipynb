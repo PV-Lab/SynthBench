{
 "cells": [
  {
   "cell_type": "code",
   "execution_count": 1,
   "metadata": {},
   "outputs": [],
   "source": [
    "import os\n",
    "import pandas as pd"
   ]
  },
  {
   "cell_type": "markdown",
   "metadata": {},
   "source": [
    "## Import the list of predicted materials to test your synthesizability filter.\n",
    "\n",
    "This is a *csv file and should have a column containing all the predicted compounds with the heading composition. This file is placed inside the folder <b>Materials</b>"
   ]
  },
  {
   "cell_type": "code",
   "execution_count": 2,
   "metadata": {},
   "outputs": [
    {
     "data": {
      "text/html": [
       "<div>\n",
       "<style scoped>\n",
       "    .dataframe tbody tr th:only-of-type {\n",
       "        vertical-align: middle;\n",
       "    }\n",
       "\n",
       "    .dataframe tbody tr th {\n",
       "        vertical-align: top;\n",
       "    }\n",
       "\n",
       "    .dataframe thead th {\n",
       "        text-align: right;\n",
       "    }\n",
       "</style>\n",
       "<table border=\"1\" class=\"dataframe\">\n",
       "  <thead>\n",
       "    <tr style=\"text-align: right;\">\n",
       "      <th></th>\n",
       "      <th>composition</th>\n",
       "      <th>Atoms</th>\n",
       "    </tr>\n",
       "  </thead>\n",
       "  <tbody>\n",
       "    <tr>\n",
       "      <th>0</th>\n",
       "      <td>Na1Bi1Br4</td>\n",
       "      <td>[1, 1, 4]</td>\n",
       "    </tr>\n",
       "    <tr>\n",
       "      <th>1</th>\n",
       "      <td>Na1Bi2Br7</td>\n",
       "      <td>[1, 2, 7]</td>\n",
       "    </tr>\n",
       "    <tr>\n",
       "      <th>2</th>\n",
       "      <td>Na1Bi3Br10</td>\n",
       "      <td>[1, 3, 10]</td>\n",
       "    </tr>\n",
       "    <tr>\n",
       "      <th>3</th>\n",
       "      <td>Na1Bi4Br13</td>\n",
       "      <td>[1, 4, 13]</td>\n",
       "    </tr>\n",
       "    <tr>\n",
       "      <th>4</th>\n",
       "      <td>Na2Bi1Br5</td>\n",
       "      <td>[2, 1, 5]</td>\n",
       "    </tr>\n",
       "  </tbody>\n",
       "</table>\n",
       "</div>"
      ],
      "text/plain": [
       "  composition       Atoms\n",
       "0   Na1Bi1Br4   [1, 1, 4]\n",
       "1   Na1Bi2Br7   [1, 2, 7]\n",
       "2  Na1Bi3Br10  [1, 3, 10]\n",
       "3  Na1Bi4Br13  [1, 4, 13]\n",
       "4   Na2Bi1Br5   [2, 1, 5]"
      ]
     },
     "execution_count": 2,
     "metadata": {},
     "output_type": "execute_result"
    }
   ],
   "source": [
    "filename = '03172025_ternary_perovskites_inspired_materials.csv'\n",
    "#filename = 'test.csv'\n",
    "\n",
    "# Read the CSV file\n",
    "file_path = os.path.join('Materials', filename)\n",
    "matlist = pd.read_csv(file_path, index_col=0)\n",
    "\n",
    "# Display the first few rows of the dataframe\n",
    "matlist.head()"
   ]
  },
  {
   "cell_type": "markdown",
   "metadata": {},
   "source": [
    "## Import the filter which you want to test"
   ]
  },
  {
   "cell_type": "code",
   "execution_count": 3,
   "metadata": {},
   "outputs": [
    {
     "name": "stdout",
     "output_type": "stream",
     "text": [
      "Total number of materials scanned:  992\n",
      "Total number of materials that were passed:  160\n"
     ]
    }
   ],
   "source": [
    "import isovalent_substituion_filter as isf\n",
    "mat = isf.match_stoichimetric_combinations(matlist)\n",
    "\n"
   ]
  }
 ],
 "metadata": {
  "kernelspec": {
   "display_name": "Python 3",
   "language": "python",
   "name": "python3"
  },
  "language_info": {
   "codemirror_mode": {
    "name": "ipython",
    "version": 3
   },
   "file_extension": ".py",
   "mimetype": "text/x-python",
   "name": "python",
   "nbconvert_exporter": "python",
   "pygments_lexer": "ipython3",
   "version": "3.12.9"
  }
 },
 "nbformat": 4,
 "nbformat_minor": 2
}
